{
 "cells": [
  {
   "cell_type": "markdown",
   "id": "0fd2d017",
   "metadata": {},
   "source": [
    "# Feature Scaling\n",
    "## Feature scaling is the process of normalising the range of features in a dataset.\n",
    "### Feature scaling is important because Variables with bigger magnitude / larger value range dominate over those with smaller magnitude / value range.\n",
    "### Also , Gradient descent converges faster when features are on similar scales\n",
    "\n",
    "Some techniques for feature scaling are - \n",
    "\n",
    "1. Standardisation.\n",
    "2. Mean Normalisation. \n",
    "3. MinMax Scaling\n",
    "4. MaxAbsScaling"
   ]
  },
  {
   "cell_type": "markdown",
   "id": "59adcd91",
   "metadata": {},
   "source": [
    "## Standardisation. \n",
    "\n",
    "Standardisation involves centering the variable at zero, and standardising the variance to 1. The procedure involves subtracting the mean of each observation and then dividing by the standard deviation:\n",
    "\n",
    "### z = (x - xmean) / stddev"
   ]
  },
  {
   "cell_type": "code",
   "execution_count": 1,
   "id": "1f58642d",
   "metadata": {},
   "outputs": [],
   "source": [
    "import numpy as np\n",
    "import matplotlib.pyplot as plt\n",
    "import pandas as pd\n",
    "from sklearn.model_selection import train_test_split\n",
    "from sklearn import preprocessing "
   ]
  },
  {
   "cell_type": "code",
   "execution_count": 2,
   "id": "1b0bcacb",
   "metadata": {},
   "outputs": [],
   "source": [
    "df = pd.read_csv('Data.csv')\n",
    "X = df.iloc[:, :-1].values\n",
    "y = df.iloc[:, -1].values\n",
    "X_train, X_test, y_train, y_test = train_test_split(X, y, test_size = 0.2, random_state = 0)"
   ]
  },
  {
   "cell_type": "code",
   "execution_count": null,
   "id": "b0cb1aa6",
   "metadata": {},
   "outputs": [],
   "source": [
    "df.columns"
   ]
  },
  {
   "cell_type": "code",
   "execution_count": 3,
   "id": "9fd1a6d0",
   "metadata": {},
   "outputs": [],
   "source": [
    "sc = preprocessing.StandardScaler()"
   ]
  },
  {
   "cell_type": "code",
   "execution_count": null,
   "id": "f098ebf6",
   "metadata": {},
   "outputs": [],
   "source": [
    "#X_train[: , 1:] #All rows, 2 columns \n",
    "#x = X_train[: , 1:].values"
   ]
  },
  {
   "cell_type": "code",
   "execution_count": 4,
   "id": "fdddd63d",
   "metadata": {},
   "outputs": [],
   "source": [
    "X_train[: , 1:]= sc.fit_transform(X_train[: , 1:])"
   ]
  },
  {
   "cell_type": "code",
   "execution_count": 5,
   "id": "0f3cfb3d",
   "metadata": {},
   "outputs": [],
   "source": [
    "X_test[: , 1:]= sc.transform(X_test[: , 1:])"
   ]
  },
  {
   "cell_type": "code",
   "execution_count": 6,
   "id": "cfaba57d",
   "metadata": {},
   "outputs": [
    {
     "data": {
      "text/plain": [
       "(array([['Germany', -1.3578475614000274, -0.8277899615678128],\n",
       "        ['Germany', 1.8641636012441045, 2.02036871975873]], dtype=object),\n",
       " array([['Germany', 0.2531580199220386, nan],\n",
       "        ['France', -0.23014365447458116, 0.44897082661305115],\n",
       "        ['Spain', -1.841149235796647, -1.4170641714974423],\n",
       "        ['Spain', nan, -1.0242146982110225],\n",
       "        ['France', 1.5419624849796914, 1.62751924647231],\n",
       "        ['Spain', -0.06904309634237459, -0.14030338331657835],\n",
       "        ['France', 0.8975602524508649, 0.9400326682210757],\n",
       "        ['France', -0.5523447707389944, -0.4349404882813931]], dtype=object))"
      ]
     },
     "execution_count": 6,
     "metadata": {},
     "output_type": "execute_result"
    }
   ],
   "source": [
    "X_test , X_train"
   ]
  },
  {
   "cell_type": "code",
   "execution_count": 10,
   "id": "9c230654",
   "metadata": {},
   "outputs": [],
   "source": [
    "X_test_scaled =pd.DataFrame(data = X_test,columns = ['Country' , 'Age' , 'Salary'])\n",
    "X_train_scaled = pd.DataFrame(data = X_train,columns = ['Country' , 'Age' , 'Salary'])"
   ]
  },
  {
   "cell_type": "markdown",
   "id": "cecba084",
   "metadata": {},
   "source": [
    "## MinMax Scaling \n",
    " \n",
    "Minimum and maximum scaling squeezes the values between 0 and 1. It subtracts the minimum value from all the observations, and then divides it by the value range:\n",
    "\n",
    "### X_scaled = (X - X.min / (X.max - X.min)"
   ]
  },
  {
   "cell_type": "code",
   "execution_count": 14,
   "id": "1845bb81",
   "metadata": {},
   "outputs": [],
   "source": [
    "scaler = preprocessing.MinMaxScaler()"
   ]
  },
  {
   "cell_type": "code",
   "execution_count": 16,
   "id": "75369e2f",
   "metadata": {},
   "outputs": [],
   "source": [
    "df1 = df.copy()"
   ]
  },
  {
   "cell_type": "code",
   "execution_count": 17,
   "id": "a640da94",
   "metadata": {},
   "outputs": [],
   "source": [
    "x1 = df1.iloc[:, :-1].values\n",
    "y1 = df1.iloc[:, -1].values"
   ]
  },
  {
   "cell_type": "code",
   "execution_count": 18,
   "id": "4d377261",
   "metadata": {},
   "outputs": [],
   "source": [
    "x_train, x_test, y_train, y_test = train_test_split(X, y, test_size = 0.2, random_state = 0)"
   ]
  },
  {
   "cell_type": "code",
   "execution_count": 19,
   "id": "29648d69",
   "metadata": {},
   "outputs": [],
   "source": [
    "x_train[: , 1:]= scaler.fit_transform(x_train[: , 1:])"
   ]
  },
  {
   "cell_type": "code",
   "execution_count": 20,
   "id": "b68421fd",
   "metadata": {},
   "outputs": [],
   "source": [
    "x_test[: , 1:]= scaler.fit_transform(x_test[: , 1:])"
   ]
  },
  {
   "cell_type": "code",
   "execution_count": 21,
   "id": "a0f28c15",
   "metadata": {},
   "outputs": [
    {
     "data": {
      "text/plain": [
       "(array([['Germany', 0.0, 0.0],\n",
       "        ['Germany', 1.0, 1.0]], dtype=object),\n",
       " array([['Germany', 0.6190476190476191, nan],\n",
       "        ['France', 0.4761904761904763, 0.612903225806452],\n",
       "        ['Spain', 0.0, 0.0],\n",
       "        ['Spain', nan, 0.12903225806451624],\n",
       "        ['France', 1.0, 1.0],\n",
       "        ['Spain', 0.5238095238095237, 0.4193548387096775],\n",
       "        ['France', 0.8095238095238093, 0.774193548387097],\n",
       "        ['France', 0.38095238095238093, 0.3225806451612905]], dtype=object))"
      ]
     },
     "execution_count": 21,
     "metadata": {},
     "output_type": "execute_result"
    }
   ],
   "source": [
    "x_test , x_train"
   ]
  }
 ],
 "metadata": {
  "kernelspec": {
   "display_name": "Python 3",
   "language": "python",
   "name": "python3"
  },
  "language_info": {
   "codemirror_mode": {
    "name": "ipython",
    "version": 3
   },
   "file_extension": ".py",
   "mimetype": "text/x-python",
   "name": "python",
   "nbconvert_exporter": "python",
   "pygments_lexer": "ipython3",
   "version": "3.8.8"
  }
 },
 "nbformat": 4,
 "nbformat_minor": 5
}
